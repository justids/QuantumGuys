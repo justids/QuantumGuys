{
 "cells": [
  {
   "cell_type": "code",
   "execution_count": 1,
   "metadata": {},
   "outputs": [],
   "source": [
    "# Import qiskit and modules\n",
    "import matplotlib.pyplot as plt\n",
    "import numpy as np\n",
    "import math\n",
    "import random\n",
    "import time\n",
    "\n",
    "from math import pi\n",
    "\n",
    "from qiskit import QuantumCircuit, ClassicalRegister, QuantumRegister, transpile, assemble\n",
    "from qiskit import Aer\n",
    "from qiskit.tools.visualization import circuit_drawer\n",
    "from qiskit.quantum_info import state_fidelity\n",
    "from qiskit import BasicAer\n",
    "from qiskit.circuit.library import TwoLocal\n",
    "\n",
    "from scipy.optimize import minimize"
   ]
  },
  {
   "cell_type": "code",
   "execution_count": 2,
   "metadata": {},
   "outputs": [],
   "source": [
    "from AtomLoader import *"
   ]
  },
  {
   "cell_type": "code",
   "execution_count": 3,
   "metadata": {},
   "outputs": [],
   "source": [
    "\n",
    "backend = BasicAer.get_backend('statevector_simulator')\n"
   ]
  },
  {
   "cell_type": "code",
   "execution_count": 4,
   "metadata": {},
   "outputs": [],
   "source": [
    "def training_circuit(parameters, atomic_descriptors):\n",
    "    \n",
    "    qc = QuantumCircuit(M)\n",
    "    qc_descriptor = QuantumCircuit(M)\n",
    "    \n",
    "    list_eta = parameters[0:M]\n",
    "    list_ksi = parameters[M:M + (depth+1)*M*2] ## twolocal have 4M parameters\n",
    "    \n",
    "    # for i in range(M):\n",
    "    for i, descriptor in enumerate(atomic_descriptors):\n",
    "        qc_descriptor.u(\n",
    "            descriptor[0],\n",
    "            descriptor[1],\n",
    "            0,\n",
    "            i\n",
    "            ) #should be replaced to theta(list_eta[i]), phi(list_ksi[i])\n",
    "        #Young Oh should read this!\n",
    "\n",
    "    twolocal = TwoLocal(num_qubits=M, reps=depth, rotation_blocks=['ry','rz'], \n",
    "                   entanglement_blocks='cx', entanglement='circular', parameter_prefix='ξ', insert_barriers=True)\n",
    "    twolocal = twolocal.bind_parameters(list_ksi)\n",
    "    \n",
    "    qc += qc_descriptor\n",
    "    qc.barrier()\n",
    "\n",
    "    qc += twolocal\n",
    "    qc.barrier()\n",
    "\n",
    "    #Observable\n",
    "    qc.z(0)\n",
    "\n",
    "    qc.barrier()\n",
    "\n",
    "    qc += twolocal.inverse()\n",
    "    qc.barrier()\n",
    "\n",
    "    qc += qc_descriptor.inverse()\n",
    "    qc.barrier()\n",
    "    \n",
    "    return qc"
   ]
  },
  {
   "cell_type": "code",
   "execution_count": 6,
   "metadata": {},
   "outputs": [],
   "source": [
    "def calculate_loss_function(parameters, random_indexes):\n",
    "\n",
    "    \n",
    "    backend = Aer.get_backend('aer_simulator')\n",
    "    loss = 0\n",
    "    for molecule_index in random_indexes:\n",
    "        energy = 0\n",
    "        list_eta = parameters[0:M]\n",
    "        atom_data = AtomLoader(list_eta, idx=[molecule_index])\n",
    "        ground_energy_label = atom_data[molecule_index]['ground_energy'][0]/-20000\n",
    "        descriptors = atom_data[molecule_index]['descriptor']\n",
    "        n_atoms = len(atom_data[molecule_index]['descriptor'])\n",
    "        # for i in range(0, N):\n",
    "\n",
    "        for i, atomic_descriptors in enumerate(descriptors):\n",
    "\n",
    "            qctl = QuantumRegister(M)\n",
    "            qc = ClassicalRegister(M)\n",
    "            circ = QuantumCircuit(qctl, qc)\n",
    "        \n",
    "            circ += training_circuit(parameters, atomic_descriptors)\n",
    "            \n",
    "            circ.save_statevector()\n",
    "            t_circ = transpile(circ, backend)\n",
    "            qobj = assemble(t_circ)\n",
    "            job = backend.run(qobj)\n",
    "\n",
    "            result = job.result()\n",
    "            outputstate = result.get_statevector(circ, decimals=100)\n",
    "            o = outputstate\n",
    "\n",
    "            energy += np.real(o[0]) ## <0|GdWdOWG|0> is picking first component of GdWdOWG|0>. I don't think square is necessary\n",
    "        \n",
    "        loss += ((energy - ground_energy_label)/n_atoms)**2\n",
    "\n",
    "    return np.sqrt(loss/len(random_indexes))"
   ]
  },
  {
   "cell_type": "code",
   "execution_count": 11,
   "metadata": {},
   "outputs": [
    {
     "data": {
      "text/plain": [
       "['27302',\n",
       " '73136',\n",
       " '36038',\n",
       " '5252',\n",
       " '117237',\n",
       " '100749',\n",
       " '63118',\n",
       " '25869',\n",
       " '104371',\n",
       " '62010',\n",
       " '51263',\n",
       " '108686',\n",
       " '123461',\n",
       " '1928',\n",
       " '93373',\n",
       " '39735',\n",
       " '125736',\n",
       " '120786',\n",
       " '80549',\n",
       " '3054',\n",
       " '58432',\n",
       " '85292',\n",
       " '65881',\n",
       " '102892',\n",
       " '89603',\n",
       " '82912',\n",
       " '67156',\n",
       " '69115',\n",
       " '36816',\n",
       " '121984',\n",
       " '26867',\n",
       " '92166',\n",
       " '1178',\n",
       " '132043',\n",
       " '34817',\n",
       " '109224',\n",
       " '116830',\n",
       " '75566',\n",
       " '69449',\n",
       " '38846',\n",
       " '466',\n",
       " '64526',\n",
       " '83445',\n",
       " '116552',\n",
       " '29137',\n",
       " '93596',\n",
       " '118995',\n",
       " '46577',\n",
       " '45986',\n",
       " '77526',\n",
       " '117318',\n",
       " '74102',\n",
       " '41808',\n",
       " '92504',\n",
       " '103527',\n",
       " '75603',\n",
       " '133614',\n",
       " '53083',\n",
       " '86999',\n",
       " '79735',\n",
       " '7628',\n",
       " '103128',\n",
       " '96835',\n",
       " '103655',\n",
       " '66786',\n",
       " '53590',\n",
       " '110516',\n",
       " '120234',\n",
       " '68434',\n",
       " '63917',\n",
       " '16191',\n",
       " '1580',\n",
       " '78878',\n",
       " '32738',\n",
       " '59740',\n",
       " '11855',\n",
       " '129183',\n",
       " '10522',\n",
       " '132606',\n",
       " '22735',\n",
       " '35039',\n",
       " '74227',\n",
       " '66461',\n",
       " '67671',\n",
       " '104898',\n",
       " '18788',\n",
       " '64595',\n",
       " '63273',\n",
       " '21745',\n",
       " '121418',\n",
       " '119916',\n",
       " '66484',\n",
       " '28399',\n",
       " '121714',\n",
       " '68332',\n",
       " '90566',\n",
       " '100787',\n",
       " '76979',\n",
       " '44052',\n",
       " '112104']"
      ]
     },
     "execution_count": 11,
     "metadata": {},
     "output_type": "execute_result"
    }
   ],
   "source": [
    "random_indexes"
   ]
  },
  {
   "cell_type": "code",
   "execution_count": 7,
   "metadata": {},
   "outputs": [
    {
     "name": "stdout",
     "output_type": "stream",
     "text": [
      "Number of total parameters:  56\n"
     ]
    },
    {
     "name": "stderr",
     "output_type": "stream",
     "text": [
      "/home/justids/anaconda3/envs/qiskit/lib/python3.7/site-packages/ipykernel_launcher.py:23: DeprecationWarning: The QuantumCircuit.__iadd__() method is being deprecated. Use the compose() (potentially with the inplace=True argument) and tensor() methods which are more flexible w.r.t circuit register compatibility.\n",
      "/home/justids/anaconda3/envs/qiskit/lib/python3.7/site-packages/ipykernel_launcher.py:26: DeprecationWarning: The QuantumCircuit.__iadd__() method is being deprecated. Use the compose() (potentially with the inplace=True argument) and tensor() methods which are more flexible w.r.t circuit register compatibility.\n",
      "/home/justids/anaconda3/envs/qiskit/lib/python3.7/site-packages/ipykernel_launcher.py:34: DeprecationWarning: The QuantumCircuit.__iadd__() method is being deprecated. Use the compose() (potentially with the inplace=True argument) and tensor() methods which are more flexible w.r.t circuit register compatibility.\n",
      "/home/justids/anaconda3/envs/qiskit/lib/python3.7/site-packages/ipykernel_launcher.py:37: DeprecationWarning: The QuantumCircuit.__iadd__() method is being deprecated. Use the compose() (potentially with the inplace=True argument) and tensor() methods which are more flexible w.r.t circuit register compatibility.\n",
      "/home/justids/anaconda3/envs/qiskit/lib/python3.7/site-packages/ipykernel_launcher.py:21: DeprecationWarning: The QuantumCircuit.__iadd__() method is being deprecated. Use the compose() (potentially with the inplace=True argument) and tensor() methods which are more flexible w.r.t circuit register compatibility.\n",
      "/home/justids/anaconda3/envs/qiskit/lib/python3.7/site-packages/ipykernel_launcher.py:23: DeprecationWarning: The QuantumCircuit.__iadd__() method is being deprecated. Use the compose() (potentially with the inplace=True argument) and tensor() methods which are more flexible w.r.t circuit register compatibility.\n",
      "/home/justids/anaconda3/envs/qiskit/lib/python3.7/site-packages/ipykernel_launcher.py:26: DeprecationWarning: The QuantumCircuit.__iadd__() method is being deprecated. Use the compose() (potentially with the inplace=True argument) and tensor() methods which are more flexible w.r.t circuit register compatibility.\n",
      "/home/justids/anaconda3/envs/qiskit/lib/python3.7/site-packages/ipykernel_launcher.py:34: DeprecationWarning: The QuantumCircuit.__iadd__() method is being deprecated. Use the compose() (potentially with the inplace=True argument) and tensor() methods which are more flexible w.r.t circuit register compatibility.\n",
      "/home/justids/anaconda3/envs/qiskit/lib/python3.7/site-packages/ipykernel_launcher.py:37: DeprecationWarning: The QuantumCircuit.__iadd__() method is being deprecated. Use the compose() (potentially with the inplace=True argument) and tensor() methods which are more flexible w.r.t circuit register compatibility.\n",
      "/home/justids/anaconda3/envs/qiskit/lib/python3.7/site-packages/ipykernel_launcher.py:21: DeprecationWarning: The QuantumCircuit.__iadd__() method is being deprecated. Use the compose() (potentially with the inplace=True argument) and tensor() methods which are more flexible w.r.t circuit register compatibility.\n"
     ]
    },
    {
     "name": "stdout",
     "output_type": "stream",
     "text": [
      "Calculation time: 71096.35366511345s\n",
      "\n",
      "     fun: 0.035473376998504016\n",
      "   maxcv: 0.0\n",
      " message: 'Maximum number of function evaluations has been exceeded.'\n",
      "    nfev: 200\n",
      "  status: 2\n",
      " success: False\n",
      "       x: array([1.54889075, 1.13422226, 1.26357362, 0.67870433, 1.06145809,\n",
      "       0.18735133, 2.13514948, 1.86897707, 0.90080292, 2.47913382,\n",
      "       1.67053009, 2.19465839, 0.58546292, 0.97304991, 0.55238768,\n",
      "       2.40890242, 3.54160382, 1.23167585, 1.66593821, 1.03967812,\n",
      "       0.75974638, 3.00856353, 0.57432272, 0.0341801 , 2.34256877,\n",
      "       2.3378954 , 3.97326757, 2.71629012, 0.74038716, 2.82570988,\n",
      "       1.19838501, 1.84423923, 1.52709437, 1.5006896 , 4.12629012,\n",
      "       1.73974637, 1.29904107, 2.05167778, 3.04712589, 0.85565609,\n",
      "       1.43906734, 1.15665331, 1.11829565, 1.05873259, 1.62826741,\n",
      "       2.95068466, 2.56868466, 1.53568466, 1.16615274, 1.705     ,\n",
      "       1.501     , 0.78      , 1.424     , 1.628     , 0.559     ,\n",
      "       3.437     ])\n"
     ]
    }
   ],
   "source": [
    "list_theta = [1,2]\n",
    "list_phi = [1,2]\n",
    "\n",
    "M = 8 #Number of descriptors (features) = Number of qubits\n",
    "depth = 2 #Number of repetitions of layer\n",
    "len_param = M*(2*depth+3) #Number of total parameters (eta + ksi)\n",
    "\n",
    "print(\"Number of total parameters: \", len_param)\n",
    "\n",
    "random_indexes = [str(x) for x in (np.random.choice(len(qm9),100 ) + 1)]\n",
    "\n",
    "\n",
    "start = time.time()\n",
    "out = minimize(calculate_loss_function, \n",
    "    x0=np.linspace(0, 1, M).tolist() + [float(random.randint(0,3000))/1000 for i in range(0, len_param-M)], \n",
    "    method=\"COBYLA\", \n",
    "    options={'maxiter':200},\n",
    "    args=(random_indexes)\n",
    "    )\n",
    "end = time.time()\n",
    "\n",
    "print(f\"Calculation time: {end-start}s\\n\")\n",
    "\n",
    "\n",
    "print(out)\n",
    "\n",
    "#out_f = [out['x'][0:3], out['x'][3:6], out['x'][6:9]]\n"
   ]
  },
  {
   "cell_type": "code",
   "execution_count": 8,
   "metadata": {},
   "outputs": [],
   "source": [
    "\n",
    "np.save('out.npy',np.array(out.x))"
   ]
  },
  {
   "cell_type": "code",
   "execution_count": 12,
   "metadata": {},
   "outputs": [
    {
     "name": "stderr",
     "output_type": "stream",
     "text": [
      "/home/justids/anaconda3/envs/qiskit/lib/python3.7/site-packages/ipykernel_launcher.py:23: DeprecationWarning: The QuantumCircuit.__iadd__() method is being deprecated. Use the compose() (potentially with the inplace=True argument) and tensor() methods which are more flexible w.r.t circuit register compatibility.\n",
      "/home/justids/anaconda3/envs/qiskit/lib/python3.7/site-packages/ipykernel_launcher.py:26: DeprecationWarning: The QuantumCircuit.__iadd__() method is being deprecated. Use the compose() (potentially with the inplace=True argument) and tensor() methods which are more flexible w.r.t circuit register compatibility.\n",
      "/home/justids/anaconda3/envs/qiskit/lib/python3.7/site-packages/ipykernel_launcher.py:34: DeprecationWarning: The QuantumCircuit.__iadd__() method is being deprecated. Use the compose() (potentially with the inplace=True argument) and tensor() methods which are more flexible w.r.t circuit register compatibility.\n",
      "/home/justids/anaconda3/envs/qiskit/lib/python3.7/site-packages/ipykernel_launcher.py:37: DeprecationWarning: The QuantumCircuit.__iadd__() method is being deprecated. Use the compose() (potentially with the inplace=True argument) and tensor() methods which are more flexible w.r.t circuit register compatibility.\n",
      "/home/justids/anaconda3/envs/qiskit/lib/python3.7/site-packages/ipykernel_launcher.py:13: DeprecationWarning: The QuantumCircuit.__iadd__() method is being deprecated. Use the compose() (potentially with the inplace=True argument) and tensor() methods which are more flexible w.r.t circuit register compatibility.\n",
      "  del sys.path[0]\n"
     ]
    },
    {
     "name": "stdout",
     "output_type": "stream",
     "text": [
      "-0.3438933380962596\n",
      "0.5906822000539648\n"
     ]
    }
   ],
   "source": [
    "molecule_index = '27302' \n",
    "list_eta = out.x[0:M]\n",
    "atom_data = AtomLoader(list_eta, idx=[molecule_index])\n",
    "ground_energy_label = atom_data[molecule_index]['ground_energy'][0]/-20000\n",
    "descriptors = atom_data[molecule_index]['descriptor']\n",
    "n_atoms = len(atom_data[molecule_index]['descriptor'])\n",
    "energy = 0\n",
    "for i, atomic_descriptors in enumerate(descriptors):\n",
    "    qctl = QuantumRegister(M)\n",
    "    qc = ClassicalRegister(M)\n",
    "    circ = QuantumCircuit(qctl, qc)\n",
    "\n",
    "    circ += training_circuit(out.x, atomic_descriptors)\n",
    "    \n",
    "    # circ.save_statevector()\n",
    "    t_circ = transpile(circ, backend)\n",
    "    qobj = assemble(t_circ)\n",
    "    job = backend.run(qobj)\n",
    "\n",
    "    result = job.result()\n",
    "    outputstate = result.get_statevector(circ, decimals=100)\n",
    "    o = outputstate\n",
    "\n",
    "    energy += np.real(o[0]) ## <0|GdWdOWG|0> is picking first component of GdWdOWG|0>. I don't think square is necessary\n",
    "print(energy)\n",
    "print(ground_energy_label)"
   ]
  },
  {
   "cell_type": "code",
   "execution_count": 10,
   "metadata": {},
   "outputs": [
    {
     "data": {
      "text/plain": [
       "-10770.175430301375"
      ]
     },
     "execution_count": 10,
     "metadata": {},
     "output_type": "execute_result"
    }
   ],
   "source": [
    "ground_energy_label*-20000"
   ]
  },
  {
   "cell_type": "code",
   "execution_count": 41,
   "metadata": {},
   "outputs": [
    {
     "data": {
      "text/plain": [
       "['28970']"
      ]
     },
     "execution_count": 41,
     "metadata": {},
     "output_type": "execute_result"
    }
   ],
   "source": [
    "random_indexes"
   ]
  },
  {
   "cell_type": "code",
   "execution_count": null,
   "metadata": {},
   "outputs": [],
   "source": []
  }
 ],
 "metadata": {
  "kernelspec": {
   "display_name": "Python 3 (ipykernel)",
   "language": "python",
   "name": "python3"
  },
  "language_info": {
   "codemirror_mode": {
    "name": "ipython",
    "version": 3
   },
   "file_extension": ".py",
   "mimetype": "text/x-python",
   "name": "python",
   "nbconvert_exporter": "python",
   "pygments_lexer": "ipython3",
   "version": "3.10.2"
  }
 },
 "nbformat": 4,
 "nbformat_minor": 4
}
