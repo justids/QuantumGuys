{
 "cells": [
  {
   "cell_type": "code",
   "execution_count": 1,
   "metadata": {},
   "outputs": [
    {
     "data": {
      "text/plain": [
       "['.ipynb_checkpoints',\n",
       " '2022 Qiskit Hackathon Korea.ipynb',\n",
       " '21조조.pptx',\n",
       " 'acs.chemrev.0c00868.pdf',\n",
       " 'asd.py',\n",
       " 'dsgdb9nsd.xyz',\n",
       " 'dsgdb9nsd.xyz.tar.bz2',\n",
       " 'output.json',\n",
       " 'preprocess.ipynb',\n",
       " 'preprocess_notebook.ipynb',\n",
       " 'qm9.db',\n",
       " 'qm9tut',\n",
       " 'schnettest.ipynb',\n",
       " '~$21조조.pptx']"
      ]
     },
     "execution_count": 1,
     "metadata": {},
     "output_type": "execute_result"
    }
   ],
   "source": [
    "import os\n",
    "os.listdir()"
   ]
  },
  {
   "cell_type": "code",
   "execution_count": 2,
   "metadata": {},
   "outputs": [],
   "source": [
    "import regex as re\n",
    "\n",
    "ordered_files = sorted(\n",
    "            os.listdir('dsgdb9nsd.xyz'), key=lambda x: (int(re.sub(\"\\D\", \"\", x)), x)\n",
    "        )"
   ]
  },
  {
   "cell_type": "code",
   "execution_count": 3,
   "metadata": {},
   "outputs": [],
   "source": [
    "import tarfile\n",
    "import tempfile\n",
    "import numpy as np\n",
    "\n",
    "from ase.io.extxyz import read_xyz\n",
    "from ase.units import Debye, Bohr, Hartree, eV\n",
    "\n",
    "available_properties = [\n",
    "    \"rotational_constant_A\",\n",
    "    \"rotational_constant_B\",\n",
    "    \"rotational_constant_C\",\n",
    "    \"dipole_moment\",\n",
    "    \"isotropic_polarizability\",\n",
    "    \"homo\",\n",
    "    \"lumo\",\n",
    "    \"gap\",\n",
    "    \"electronic_spatial_extent\",\n",
    "    \"zpve\",\n",
    "    \"energy_U0\",\n",
    "    \"energy_U\",\n",
    "    \"enthalpy_H\",\n",
    "    \"free_energy\",\n",
    "    \"heat_capacity\"\n",
    "]\n",
    "\n",
    "units = [\n",
    "    1.0,\n",
    "    1.0,\n",
    "    1.0,\n",
    "    Debye,\n",
    "    Bohr ** 3,\n",
    "    Hartree,\n",
    "    Hartree,\n",
    "    Hartree,\n",
    "    Bohr ** 2,\n",
    "    Hartree,\n",
    "    Hartree,\n",
    "    Hartree,\n",
    "    Hartree,\n",
    "    Hartree,\n",
    "    1.0,\n",
    "]\n",
    "\n",
    "units = dict(zip(available_properties, units))\n",
    "\n",
    "tmpdir = tempfile.mkdtemp(\"gdb9\")\n",
    "\n",
    "irange = np.arange(len(ordered_files), dtype=int)\n",
    "\n",
    "all_atoms = list(irange+1)\n",
    "all_quantum_properties = []\n",
    "\n",
    "for i in range(2):\n",
    "    xyzfile = os.path.join('dsgdb9nsd.xyz', ordered_files[i])\n",
    "\n",
    "    if (i + 1) % 10000 == 0:\n",
    "        print(\"Parsed: {:6d} / 133885\".format(i + 1))\n",
    "    properties = {}\n",
    "    quantum_properties = {}\n",
    "    tmp = os.path.join(tmpdir, \"tmp.xyz\")\n",
    "    with open(xyzfile, \"r\") as f:\n",
    "        lines = f.readlines()\n",
    "\n",
    "        quantum_properties['symbol'] = lines[-1].split()[0].split('/')[1]\n",
    "        \n",
    "        n_atoms = int(lines[0])\n",
    "        quantum_properties['n_atoms'] = n_atoms\n",
    "\n",
    "        l = lines[1].split()[2:]\n",
    "        coordinates = []\n",
    "\n",
    "        # 3번째 줄 부터 Coordinates 시작인데, n_atoms 만큼 반복하면 됨\n",
    "        for j in range(2,n_atoms+2):\n",
    "            \n",
    "            # *^ 있는 줄이 있어서 변환 시도\n",
    "            replaced_line = lines[j].replace(\"*^\", \"e\")\n",
    "\n",
    "            # Split 하고\n",
    "            coordinates_list = replaced_line.split()\n",
    "\n",
    "            # {'C': [-0.0126981359, 1.0858041578, 0.0080009958]} 형식처럼 만든 뒤 append\n",
    "            coordinates.append(list(coordinates_list[0]) + list(map(float, coordinates_list[1:4])))\n",
    "\n",
    "        quantum_properties['coordinates'] = coordinates\n",
    "        for pn, p in zip(available_properties, l):\n",
    "            if pn == 'energy_U0':\n",
    "                quantum_properties[pn] = list([float(p) * units[pn]])\n",
    "\n",
    "    \n",
    "    all_quantum_properties.append(quantum_properties)\n"
   ]
  },
  {
   "cell_type": "code",
   "execution_count": 4,
   "metadata": {},
   "outputs": [],
   "source": [
    "all_atoms = list(map(int, all_atoms))"
   ]
  },
  {
   "cell_type": "code",
   "execution_count": 5,
   "metadata": {},
   "outputs": [
    {
     "data": {
      "text/plain": [
       "[{'symbol': 'CH4',\n",
       "  'n_atoms': 5,\n",
       "  'coordinates': [['C', -0.0126981359, 1.0858041578, 0.0080009958],\n",
       "   ['H', 0.002150416, -0.0060313176, 0.0019761204],\n",
       "   ['H', 1.0117308433, 1.4637511618, 0.0002765748],\n",
       "   ['H', -0.540815069, 1.4475266138, -0.8766437152],\n",
       "   ['H', -0.5238136345, 1.4379326443, 0.9063972942]],\n",
       "  'energy_U0': [-1101.4877900833399]},\n",
       " {'symbol': 'H3N',\n",
       "  'n_atoms': 4,\n",
       "  'coordinates': [['N', -0.0404260543, 1.0241077531, 0.0625637998],\n",
       "   ['H', 0.0172574639, 0.0125452063, -0.0273771593],\n",
       "   ['H', 0.9157893661, 1.3587451948, -0.0287577581],\n",
       "   ['H', -0.5202777357, 1.3435321258, -0.7755426124]],\n",
       "  'energy_U0': [-1538.147731526762]}]"
      ]
     },
     "execution_count": 5,
     "metadata": {},
     "output_type": "execute_result"
    }
   ],
   "source": [
    "all_quantum_properties[:2]"
   ]
  },
  {
   "cell_type": "code",
   "execution_count": 6,
   "metadata": {},
   "outputs": [],
   "source": [
    "dictionary = dict(zip(all_atoms, all_quantum_properties))"
   ]
  },
  {
   "cell_type": "code",
   "execution_count": 7,
   "metadata": {},
   "outputs": [],
   "source": [
    "import json\n",
    "\n",
    "with open('output.json', 'w') as fp:\n",
    "    json.dump(dictionary, fp)"
   ]
  },
  {
   "cell_type": "code",
   "execution_count": null,
   "metadata": {},
   "outputs": [],
   "source": []
  }
 ],
 "metadata": {
  "interpreter": {
   "hash": "586efa215eb5125a1de83e51361bd794bb3592c611f458f19ee136b01ee506b3"
  },
  "kernelspec": {
   "display_name": "Python 3",
   "language": "python",
   "name": "python3"
  },
  "language_info": {
   "codemirror_mode": {
    "name": "ipython",
    "version": 3
   },
   "file_extension": ".py",
   "mimetype": "text/x-python",
   "name": "python",
   "nbconvert_exporter": "python",
   "pygments_lexer": "ipython3",
   "version": "3.8.5"
  }
 },
 "nbformat": 4,
 "nbformat_minor": 2
}
