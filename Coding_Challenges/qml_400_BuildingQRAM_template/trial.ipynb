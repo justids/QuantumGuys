{
 "cells": [
  {
   "cell_type": "code",
   "execution_count": 2,
   "metadata": {},
   "outputs": [],
   "source": [
    "import sys\n",
    "import pennylane as qml\n",
    "from pennylane import numpy as np\n",
    "import pennylane.optimize as optimize"
   ]
  },
  {
   "cell_type": "code",
   "execution_count": 1,
   "metadata": {},
   "outputs": [],
   "source": [
    "f=open('2.in','r')"
   ]
  },
  {
   "cell_type": "code",
   "execution_count": 3,
   "metadata": {},
   "outputs": [],
   "source": [
    "\n",
    "inputs=f.read().split(\",\")"
   ]
  },
  {
   "cell_type": "code",
   "execution_count": 4,
   "metadata": {},
   "outputs": [],
   "source": [
    "thetas = np.array(inputs, dtype=float)"
   ]
  },
  {
   "cell_type": "code",
   "execution_count": 5,
   "metadata": {},
   "outputs": [
    {
     "data": {
      "text/plain": [
       "tensor([3.14159265, 3.14159265, 3.14159265, 3.14159265, 3.14159265,\n",
       "        3.14159265, 3.14159265, 3.14159265], requires_grad=True)"
      ]
     },
     "execution_count": 5,
     "metadata": {},
     "output_type": "execute_result"
    }
   ],
   "source": [
    "thetas"
   ]
  },
  {
   "cell_type": "code",
   "execution_count": 27,
   "metadata": {},
   "outputs": [],
   "source": [
    "a=np.array([int(i) for i in list(bin(3))[2:]], requires_grad=False)"
   ]
  },
  {
   "cell_type": "code",
   "execution_count": 28,
   "metadata": {},
   "outputs": [],
   "source": [
    "b=np.zeros(3)"
   ]
  },
  {
   "cell_type": "code",
   "execution_count": 29,
   "metadata": {},
   "outputs": [],
   "source": [
    "for i in range(len(a)):\n",
    "    b[-(i+1)]=a[-(i+1)]"
   ]
  },
  {
   "cell_type": "code",
   "execution_count": 30,
   "metadata": {},
   "outputs": [
    {
     "data": {
      "text/plain": [
       "tensor([0., 1., 1.], requires_grad=True)"
      ]
     },
     "execution_count": 30,
     "metadata": {},
     "output_type": "execute_result"
    }
   ],
   "source": [
    "b"
   ]
  },
  {
   "cell_type": "code",
   "execution_count": 24,
   "metadata": {},
   "outputs": [],
   "source": [
    "b[-2]=a[-2]"
   ]
  },
  {
   "cell_type": "code",
   "execution_count": 37,
   "metadata": {},
   "outputs": [],
   "source": [
    "thetas=[0.1,0.2,0.3,0.4,0.5,0.6,0.7,0.8]"
   ]
  },
  {
   "cell_type": "code",
   "execution_count": 61,
   "metadata": {},
   "outputs": [],
   "source": [
    "\n",
    "\n",
    "def flipflop(j):\n",
    "        binaryi=np.array([int(i) for i in list(bin(j))[2:]], requires_grad=False)\n",
    "        binaryn=np.zeros(3)\n",
    "        for i in range(len(binaryi)):\n",
    "            binaryn[-(i+1)]=binaryi[-(i+1)]\n",
    "        for i in range(3):\n",
    "            if binaryn[i]==0:\n",
    "                qml.PauliX(wires=i)\n",
    "        U=np.array([[np.cos(thetas[j]/2),-np.sin(thetas[j]/2)]\n",
    "                    ,[np.sin(thetas[j]/2), np.cos(thetas[j]/2)]])\n",
    "        qml.ControlledQubitUnitary(U, control_wires=[0, 1, 2], wires=3)\n",
    "        for i in range(3):\n",
    "            if binaryn[i]==0:\n",
    "                qml.PauliX(wires=i)\n",
    "        \n",
    "                \n",
    "\n",
    "dev = qml.device(\"default.qubit\", wires=range(4))\n",
    "\n",
    "@qml.qnode(dev)\n",
    "def circuit():\n",
    "    for i in range(3):\n",
    "        qml.Hadamard(wires=i)\n",
    "    for j in range(len(thetas)):\n",
    "        flipflop(j)\n",
    "\n",
    "    # QHACK #\n",
    "\n",
    "    # Create your circuit: the first three qubits will refer to the index, the fourth to the RY rotation.\n",
    "\n",
    "    # QHACK #\n",
    "\n",
    "    return qml.state()"
   ]
  },
  {
   "cell_type": "code",
   "execution_count": 64,
   "metadata": {},
   "outputs": [
    {
     "data": {
      "text/plain": [
       "tensor([0.35311154+0.j, 0.0176703 +0.j, 0.3517871 +0.j, 0.03529644+0.j,\n",
       "        0.34958337+0.j, 0.05283436+0.j, 0.34650586+0.j, 0.07024022+0.j,\n",
       "        0.34256227+0.j, 0.08747051+0.j, 0.33776245+0.j, 0.10448217+0.j,\n",
       "        0.33211841+0.j, 0.12123268+0.j, 0.32564424+0.j, 0.13768018+0.j], requires_grad=True)"
      ]
     },
     "execution_count": 64,
     "metadata": {},
     "output_type": "execute_result"
    }
   ],
   "source": [
    "circuit()"
   ]
  },
  {
   "cell_type": "code",
   "execution_count": 81,
   "metadata": {},
   "outputs": [],
   "source": [
    "dev = qml.device(\"default.qubit\", wires=3)\n",
    "@qml.qnode(dev)\n",
    "def circuit(theta):\n",
    "    qml.Hadamard(wires=0)\n",
    "    qml.CNOT(wires=[0,1])\n",
    "    qml.PauliX(wires=1)\n",
    "    qml.CRY(theta, wires=[1,2])\n",
    "    qml.CNOT(wires=[2,1])\n",
    "    return qml.state()"
   ]
  },
  {
   "cell_type": "code",
   "execution_count": 82,
   "metadata": {},
   "outputs": [
    {
     "name": "stdout",
     "output_type": "stream",
     "text": [
      " 0: ──H──╭C─────────────────╭┤ State \n",
      " 1: ─────╰X──X──╭C──────╭X──├┤ State \n",
      " 2: ────────────╰RY(0)──╰C──╰┤ State \n",
      "\n"
     ]
    }
   ],
   "source": [
    "print(qml.draw(circuit)(0))"
   ]
  },
  {
   "cell_type": "code",
   "execution_count": 1,
   "metadata": {},
   "outputs": [
    {
     "ename": "NameError",
     "evalue": "name 'qml' is not defined",
     "output_type": "error",
     "traceback": [
      "\u001b[0;31m---------------------------------------------------------------------------\u001b[0m",
      "\u001b[0;31mNameError\u001b[0m                                 Traceback (most recent call last)",
      "\u001b[0;32m/tmp/ipykernel_29116/1455752533.py\u001b[0m in \u001b[0;36m<module>\u001b[0;34m\u001b[0m\n\u001b[0;32m----> 1\u001b[0;31m \u001b[0mqml\u001b[0m\u001b[0;34m.\u001b[0m\u001b[0mPauliZ\u001b[0m\u001b[0;34m(\u001b[0m\u001b[0;36m0\u001b[0m\u001b[0;34m)\u001b[0m\u001b[0;34m+\u001b[0m\u001b[0mqml\u001b[0m\u001b[0;34m.\u001b[0m\u001b[0mIdentity\u001b[0m\u001b[0;34m(\u001b[0m\u001b[0;36m0\u001b[0m\u001b[0;34m)\u001b[0m\u001b[0;34m\u001b[0m\u001b[0;34m\u001b[0m\u001b[0m\n\u001b[0m",
      "\u001b[0;31mNameError\u001b[0m: name 'qml' is not defined"
     ]
    }
   ],
   "source": [
    "qml.PauliZ(0)+qml.Identity(0)"
   ]
  },
  {
   "cell_type": "code",
   "execution_count": null,
   "metadata": {},
   "outputs": [],
   "source": []
  }
 ],
 "metadata": {
  "interpreter": {
   "hash": "8d590842facef9a358f694449706aff506337bf1a4b02094de7950eec2b9ea62"
  },
  "kernelspec": {
   "display_name": "Python 3.7.11 ('pennylane': conda)",
   "language": "python",
   "name": "python3"
  },
  "language_info": {
   "codemirror_mode": {
    "name": "ipython",
    "version": 3
   },
   "file_extension": ".py",
   "mimetype": "text/x-python",
   "name": "python",
   "nbconvert_exporter": "python",
   "pygments_lexer": "ipython3",
   "version": "3.7.11"
  },
  "orig_nbformat": 4
 },
 "nbformat": 4,
 "nbformat_minor": 2
}
