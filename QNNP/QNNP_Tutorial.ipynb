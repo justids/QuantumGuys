{
 "cells": [
  {
   "cell_type": "markdown",
   "source": [
    "# Predictiong Ground-state with Novel Quantum Descriptor of Molecules using QML"
   ],
   "metadata": {
    "collapsed": false
   }
  },
  {
   "cell_type": "markdown",
   "source": [
    "## Can we get grond state enery with only Cartesian coordinates of atoms in molecule?\n",
    "<img src=\"carcorr.png\" alt=\"drawing\" width=\"400\">\n",
    "\n",
    "Predicting ground-state enery of molecules are hard yet important problem in quantum chemistry. Even if the physical structure of a molecule is known, directly calculating ground-state from quantum mechanics is challenging. Therefore, many approximate classical algorithms have been developed with neural network, such as ASCF, SOAP, etc. In this QHack project, we demonstrate quantum-classical hybrid machine learning algorithm predicting ground-state only with Cartesian coordinates and atom number of atoms in a molecule.\n"
   ],
   "metadata": {
    "collapsed": false
   }
  },
  {
   "cell_type": "markdown",
   "source": [
    "\n",
    "### (High-dimensional) Neural Network Potential\n",
    "[The paper](https://pubs.acs.org/action/showCitFormats?doi=10.1021/acs.chemrev.0c00868&ref=pdf) suggests Neural Network Potential (NNP) to get ground-state. For atom $\\alpha$ in molecule, there are $N_\\alpha$ adjacent atoms within some cut-off radius $R_c$. Then, we transform distance from these adjacent atoms by some symmetry functions, called descriptors; $R_\\alpha \\mapsto G_\\alpha$. For example, typical radial symmetry preserving descriptor would be,\n",
    "$$\n",
    "    G^{rad}_{i, \\mu} = \\sum_{j\\neq i}^{N_{atom}\\in R_c} e^{-\\eta(R_{ij}-R_s)^2} f_c(R_{ij})\n",
    "$$\n",
    "where $f_c$ is cut-off function. Finally, using classical neural network, we predict atomic energy per atom per element and sum them all to get (short-interaction) energy. We have to train these neural network with molecules of well-known ground-state energy. In NNP, design of the discriptors are extremely important.\n",
    "\n",
    "![2ndNNP](https://pubs.acs.org/na101/home/literatum/publisher/achs/journals/content/chreay/2021/chreay.2021.121.issue-16/acs.chemrev.0c00868/20210818/images/medium/cr0c00868_0005.gif)"
   ],
   "metadata": {
    "collapsed": false
   }
  },
  {
   "cell_type": "markdown",
   "source": [
    "## Let's go quantum! (QNNP)\n",
    "Quantum Neural Network Potential (QNNP) utilized quantum descriptor instead of classical descriptor,\n",
    "$$\n",
    "    |G_\\alpha^i\\rangle = \\sum_{j\\neq i}^{N_{atom}\\in R_c}e^{-\\eta(R_{ij}-R_s)^2}f_c(R_{ij})|\\psi_{\\alpha,j}\\rangle.\n",
    "$$\n",
    "Here, $|\\psi_{\\alpha,j}\\rangle$ is some kind of projection mapping onto Bloch sphere.\n",
    "\n",
    "<img src=\"desc.png\" alt=\"drawing\" width=\"300\">\n",
    "\n",
    "Since descriptors are quantum, we utilze parameterized quantum circuit instead of classical neural network.\n",
    "\n",
    "<img src=\"qcirc.png\" alt=\"drawing\" width=\"1000\">"
   ],
   "metadata": {
    "collapsed": false
   }
  },
  {
   "cell_type": "markdown",
   "source": [
    "## Demo\n",
    "\n",
    "We trained our QNNP model with [QM9 dataset](https://paperswithcode.com/dataset/qm9)"
   ],
   "metadata": {
    "collapsed": false
   }
  },
  {
   "cell_type": "code",
   "execution_count": 1,
   "outputs": [],
   "source": [
    "from QMLatomLoader import *\n",
    "import pennylane as qml\n",
    "from pennylane import numpy as np\n",
    "from tqdm.notebook import tqdm\n",
    "import json\n",
    "from torch.utils.tensorboard import SummaryWriter"
   ],
   "metadata": {
    "collapsed": false,
    "pycharm": {
     "name": "#%%\n"
    }
   }
  },
  {
   "cell_type": "markdown",
   "source": [
    "Let's consider one-qubit case for simplicity."
   ],
   "metadata": {
    "collapsed": false
   }
  },
  {
   "cell_type": "code",
   "execution_count": 2,
   "outputs": [
    {
     "name": "stdout",
     "output_type": "stream",
     "text": [
      "[[10  0]]\n"
     ]
    }
   ],
   "source": [
    "epochs = 2000\n",
    "batchs = 32\n",
    "\n",
    "n_qubit = 1\n",
    "radius = 10\n",
    "\n",
    "para = np.array(\n",
    "    [[radius, 0],\n",
    "     ]\n",
    ")\n",
    "para.requires_grad = False\n",
    "print(para)"
   ],
   "metadata": {
    "collapsed": false,
    "pycharm": {
     "name": "#%%\n"
    }
   }
  },
  {
   "cell_type": "markdown",
   "source": [
    "We consider default pennylane qubit simulator"
   ],
   "metadata": {
    "collapsed": false
   }
  },
  {
   "cell_type": "code",
   "execution_count": 3,
   "outputs": [],
   "source": [
    "dev = qml.device(\"default.qubit\", wires=n_qubit)\n",
    "\n",
    "\n",
    "@qml.qnode(dev)\n",
    "def atomicoutput(descript, H):\n",
    "    \"\"\"The energy expectation value of a Hamiltonian\"\"\"\n",
    "    for i in range(n_qubit):\n",
    "        qml.Rot(-descript[i, 1], descript[i, 0], descript[i, 1], wires=i)\n",
    "\n",
    "    return qml.expval(H)\n",
    "\n",
    "\n",
    "def hamiltonian(parameters, descriptor_size):\n",
    "    coeff = np.zeros((n_qubit, 4)) + descriptor_size[:, np.newaxis]\n",
    "    coeff = coeff.flatten()\n",
    "    coeff = coeff * parameters\n",
    "    obs = []\n",
    "    for i in range(n_qubit):\n",
    "        obs.append(qml.Identity(i))\n",
    "        obs.append(qml.PauliX(i))\n",
    "        obs.append(qml.PauliY(i))\n",
    "        obs.append(qml.PauliZ(i))\n",
    "    return qml.Hamiltonian(coeff, obs)"
   ],
   "metadata": {
    "collapsed": false,
    "pycharm": {
     "name": "#%%\n"
    }
   }
  },
  {
   "cell_type": "markdown",
   "source": [
    "We use optimizers provided in `pennylane` package"
   ],
   "metadata": {
    "collapsed": false
   }
  },
  {
   "cell_type": "code",
   "execution_count": 4,
   "outputs": [
    {
     "name": "stdout",
     "output_type": "stream",
     "text": [
      "[0.56228473 0.9649423  0.78495708 0.78705951]\n"
     ]
    }
   ],
   "source": [
    "writer = SummaryWriter()\n",
    "init_params = np.random.random(n_qubit * 4, requires_grad=True)\n",
    "opt = qml.AdagradOptimizer(stepsize=2)\n",
    "params = init_params\n",
    "params.requires_grad = True\n",
    "print(params)"
   ],
   "metadata": {
    "collapsed": false,
    "pycharm": {
     "name": "#%%\n"
    }
   }
  },
  {
   "cell_type": "code",
   "execution_count": null,
   "outputs": [
    {
     "name": "stdout",
     "output_type": "stream",
     "text": [
      "loading atom data\n",
      "atom data loaded!\n"
     ]
    },
    {
     "data": {
      "text/plain": "  0%|          | 0/2000 [00:00<?, ?it/s]",
      "application/vnd.jupyter.widget-view+json": {
       "version_major": 2,
       "version_minor": 0,
       "model_id": "c436b3abc98f4b9688d69b9de38f14d8"
      }
     },
     "metadata": {},
     "output_type": "display_data"
    }
   ],
   "source": [
    "losslist = []\n",
    "if batchs == 1:\n",
    "    print('loading atom data')\n",
    "    loadatom = AtomLoader1(\n",
    "        sampler='random',\n",
    "        numb=epochs,\n",
    "        classic=True,\n",
    "        classic_parameter=para,\n",
    "        weigthed=True,\n",
    "        cutoff_radius=radius,\n",
    "        set_axis=True\n",
    "    )\n",
    "    print('atom data loaded!')\n",
    "    for i in tqdm(range(epochs)):\n",
    "        ground_energy = loadatom[i]['ground_energy']\n",
    "        descriptor = loadatom[i]['descriptor']\n",
    "        descript_sizes = loadatom[i]['descriptor_size']\n",
    "        n_atom = loadatom[i]['atomic_number']\n",
    "        descriptor.requires_grad = False\n",
    "        descript_sizes.requires_grad = False\n",
    "\n",
    "\n",
    "        def losses(param):\n",
    "            outputs = 0\n",
    "            for n in range(n_atom):\n",
    "                outputs += atomicoutput(descriptor[n], hamiltonian(param, descript_sizes[n]))\n",
    "            return np.sqrt(((ground_energy - outputs) / n_atom) ** 2)\n",
    "\n",
    "\n",
    "        params, loss = opt.step_and_cost(losses, params)\n",
    "        writer.add_scalar(f'Batch={batchs}/Loss', loss, i)\n",
    "        losslist.append(loss.item())\n",
    "else:\n",
    "    print('loading atom data')\n",
    "    loadatom = AtomLoader2(\n",
    "        sampler='random',\n",
    "        epochs=epochs,\n",
    "        batchs=batchs,\n",
    "        classic=True,\n",
    "        classic_parameter=para,\n",
    "        weigthed=True,\n",
    "        cutoff_radius=radius,\n",
    "        set_axis=True\n",
    "    )\n",
    "    print('atom data loaded!')\n",
    "    for i in tqdm(range(epochs)):\n",
    "        def losses(param):\n",
    "            loss = 0\n",
    "            x = loadatom[i]\n",
    "            for j in range(batchs):\n",
    "                ground_energy = x[j]['ground_energy']\n",
    "                descriptor = x[j]['descriptor']\n",
    "                descript_sizes = x[j]['descriptor_size']\n",
    "                n_atom = x[j]['atomic_number']\n",
    "                descriptor.requires_grad = False\n",
    "                descript_sizes.requires_grad = False\n",
    "                out = 0\n",
    "                for n in range(n_atom):\n",
    "                    out += atomicoutput(descriptor[n], hamiltonian(param, descript_sizes[n]))\n",
    "                loss += np.sqrt(((ground_energy - out) / n_atom) ** 2)\n",
    "            return loss / batchs\n",
    "\n",
    "\n",
    "        params, loss = opt.step_and_cost(losses, params)\n",
    "        writer.add_scalar(f'Batch={batchs}/Loss', loss, i)\n",
    "        losslist.append(loss.item())"
   ],
   "metadata": {
    "collapsed": false,
    "pycharm": {
     "name": "#%%\n",
     "is_executing": true
    }
   }
  },
  {
   "cell_type": "code",
   "execution_count": null,
   "outputs": [],
   "source": [
    "print(para)\n",
    "print(params)"
   ],
   "metadata": {
    "collapsed": false,
    "pycharm": {
     "name": "#%%\n",
     "is_executing": true
    }
   }
  },
  {
   "cell_type": "code",
   "execution_count": null,
   "outputs": [],
   "source": [
    "import matplotlib.pyplot as plt\n",
    "import seaborn as sns\n",
    "data = {'step': np.arange(len(losslist)), 'loss':np.array(losslist)}\n",
    "sns.lineplot(data=data, x='step', y='loss')"
   ],
   "metadata": {
    "collapsed": false,
    "pycharm": {
     "name": "#%%\n",
     "is_executing": true
    }
   }
  },
  {
   "cell_type": "markdown",
   "source": [
    "## Ref\n",
    "1. [Behler, Jörg. \"Four generations of high-dimensional neural network potentials.\" Chemical Reviews 121.16 (2021): 10037-10072.](https://doi.org/10.1021/acs.chemrev.0c00868)"
   ],
   "metadata": {
    "collapsed": false
   }
  },
  {
   "cell_type": "code",
   "execution_count": null,
   "outputs": [],
   "source": [],
   "metadata": {
    "collapsed": false,
    "pycharm": {
     "name": "#%%\n",
     "is_executing": true
    }
   }
  },
  {
   "cell_type": "markdown",
   "source": [],
   "metadata": {
    "collapsed": false
   }
  }
 ],
 "metadata": {
  "kernelspec": {
   "name": "qhack",
   "language": "python",
   "display_name": "qhack"
  },
  "language_info": {
   "codemirror_mode": {
    "name": "ipython",
    "version": 2
   },
   "file_extension": ".py",
   "mimetype": "text/x-python",
   "name": "python",
   "nbconvert_exporter": "python",
   "pygments_lexer": "ipython2",
   "version": "2.7.6"
  }
 },
 "nbformat": 4,
 "nbformat_minor": 0
}