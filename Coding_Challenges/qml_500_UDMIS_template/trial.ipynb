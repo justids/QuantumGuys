{
 "cells": [
  {
   "cell_type": "code",
   "execution_count": 40,
   "metadata": {},
   "outputs": [],
   "source": [
    "import sys\n",
    "import pennylane as qml\n",
    "from pennylane import numpy as np\n",
    "import pennylane.optimize as optimize\n"
   ]
  },
  {
   "cell_type": "code",
   "execution_count": 41,
   "metadata": {},
   "outputs": [],
   "source": [
    "f=open('2.in','r')"
   ]
  },
  {
   "cell_type": "code",
   "execution_count": 42,
   "metadata": {},
   "outputs": [],
   "source": [
    "\n",
    "inputs=f.read().split(\",\")"
   ]
  },
  {
   "cell_type": "code",
   "execution_count": 43,
   "metadata": {},
   "outputs": [],
   "source": [
    "inputs = np.array(inputs, dtype=float, requires_grad=False)"
   ]
  },
  {
   "cell_type": "code",
   "execution_count": 44,
   "metadata": {},
   "outputs": [],
   "source": [
    "num_vertices = int(len(inputs) / 2)\n",
    "x = inputs[:num_vertices]\n",
    "y = inputs[num_vertices:]"
   ]
  },
  {
   "cell_type": "code",
   "execution_count": 45,
   "metadata": {},
   "outputs": [],
   "source": [
    "graph = []\n",
    "for n in range(num_vertices):\n",
    "    graph.append((x[n].item(), y[n].item()))\n"
   ]
  },
  {
   "cell_type": "code",
   "execution_count": 46,
   "metadata": {},
   "outputs": [
    {
     "data": {
      "text/plain": [
       "[(1.971141343837512, 1.1991102459020841),\n",
       " (1.3175151958757692, 3.7875893202521675),\n",
       " (1.7743411711379486, 3.0946479758878165),\n",
       " (0.19884568690295978, 2.389909455806816),\n",
       " (1.2411294078770752, 3.2889545392433455),\n",
       " (4.077451769506551, 0.5826862970005925)]"
      ]
     },
     "execution_count": 46,
     "metadata": {},
     "output_type": "execute_result"
    }
   ],
   "source": [
    "graph"
   ]
  },
  {
   "cell_type": "code",
   "execution_count": 47,
   "metadata": {},
   "outputs": [],
   "source": [
    "def edges(graph):\n",
    "    \"\"\"Creates a matrix of bools that are interpreted as the existence/non-existence (True/False)\n",
    "    of edges between vertices (i,j).\n",
    "\n",
    "    Args:\n",
    "        - graph (list((float, float))): A list of x,y coordinates. e.g. graph = [(1.0, 1.1), (4.5, 3.1)]\n",
    "\n",
    "    Returns:\n",
    "        - num_edges (int): The total number of edges in the graph\n",
    "        - E (np.ndarray): A Matrix of edges\n",
    "    \"\"\"\n",
    "\n",
    "    # DO NOT MODIFY anything in this code block\n",
    "    num_vertices = len(graph)\n",
    "    E = np.zeros((num_vertices, num_vertices), dtype=bool)\n",
    "    for vertex_i in range(num_vertices - 1):\n",
    "        xi, yi = graph[vertex_i]  # coordinates\n",
    "\n",
    "        for vertex_j in range(vertex_i + 1, num_vertices):\n",
    "            xj, yj = graph[vertex_j]  # coordinates\n",
    "            dij = np.sqrt((xi - xj) ** 2 + (yi - yj) ** 2)\n",
    "            E[vertex_i, vertex_j] = 1 if dij <= 1.0 else 0\n",
    "\n",
    "    return E, np.sum(E, axis=(0, 1))"
   ]
  },
  {
   "cell_type": "code",
   "execution_count": 78,
   "metadata": {},
   "outputs": [],
   "source": [
    "A = np.array(\n",
    "... [[1,0],[0,0]])\n",
    "B=A\n",
    "coeffs, obs_list = qml.utils.decompose_hamiltonian(np.kron(A,A))"
   ]
  },
  {
   "cell_type": "code",
   "execution_count": 79,
   "metadata": {},
   "outputs": [
    {
     "data": {
      "text/plain": [
       "([0.25, 0.25, 0.25, 0.25],\n",
       " [Identity(wires=[0]) @ Identity(wires=[1]),\n",
       "  Identity(wires=[0]) @ PauliZ(wires=[1]),\n",
       "  PauliZ(wires=[0]) @ Identity(wires=[1]),\n",
       "  PauliZ(wires=[0]) @ PauliZ(wires=[1])])"
      ]
     },
     "execution_count": 79,
     "metadata": {},
     "output_type": "execute_result"
    }
   ],
   "source": [
    "coeffs, obs_list"
   ]
  },
  {
   "cell_type": "code",
   "execution_count": 72,
   "metadata": {},
   "outputs": [
    {
     "data": {
      "text/plain": [
       "([0.5, 0.5], [Identity(wires=[0]), PauliZ(wires=[0])])"
      ]
     },
     "execution_count": 72,
     "metadata": {},
     "output_type": "execute_result"
    }
   ],
   "source": [
    "coeffs, obs_list"
   ]
  },
  {
   "cell_type": "code",
   "execution_count": 62,
   "metadata": {},
   "outputs": [
    {
     "data": {
      "text/plain": [
       "tensor([[0., 0.],\n",
       "        [0., 0.],\n",
       "        [0., 0.],\n",
       "        [0., 0.],\n",
       "        [0., 0.],\n",
       "        [0., 0.]], requires_grad=True)"
      ]
     },
     "execution_count": 62,
     "metadata": {},
     "output_type": "execute_result"
    }
   ],
   "source": [
    "np.zeros([6,2], requires_grad=True)"
   ]
  },
  {
   "cell_type": "code",
   "execution_count": 69,
   "metadata": {},
   "outputs": [
    {
     "name": "stderr",
     "output_type": "stream",
     "text": [
      "/home/justids/anaconda3/envs/pennylane/lib/python3.7/site-packages/pennylane/ops/qubit/matrix_ops.py:81: UserWarning: Operator [[1 0]\n",
      " [0 0]]\n",
      " may not be unitary.Verify unitarity of operation, or use a datatype with increased precision.\n",
      "  UserWarning,\n"
     ]
    },
    {
     "ename": "TypeError",
     "evalue": "Can't instantiate abstract class Observable with abstract methods num_wires",
     "output_type": "error",
     "traceback": [
      "\u001b[0;31m---------------------------------------------------------------------------\u001b[0m",
      "\u001b[0;31mTypeError\u001b[0m                                 Traceback (most recent call last)",
      "\u001b[0;32m/tmp/ipykernel_28364/226132206.py\u001b[0m in \u001b[0;36m<module>\u001b[0;34m\u001b[0m\n\u001b[1;32m      2\u001b[0m                 [0,0]])\n\u001b[1;32m      3\u001b[0m \u001b[0ma\u001b[0m\u001b[0;34m=\u001b[0m\u001b[0mqml\u001b[0m\u001b[0;34m.\u001b[0m\u001b[0mQubitUnitary\u001b[0m\u001b[0;34m(\u001b[0m\u001b[0mU\u001b[0m\u001b[0;34m,\u001b[0m \u001b[0mwires\u001b[0m\u001b[0;34m=\u001b[0m\u001b[0;36m0\u001b[0m\u001b[0;34m)\u001b[0m\u001b[0;34m\u001b[0m\u001b[0;34m\u001b[0m\u001b[0m\n\u001b[0;32m----> 4\u001b[0;31m \u001b[0mqml\u001b[0m\u001b[0;34m.\u001b[0m\u001b[0moperation\u001b[0m\u001b[0;34m.\u001b[0m\u001b[0mObservable\u001b[0m\u001b[0;34m(\u001b[0m\u001b[0ma\u001b[0m\u001b[0;34m)\u001b[0m\u001b[0;34m\u001b[0m\u001b[0;34m\u001b[0m\u001b[0m\n\u001b[0m",
      "\u001b[0;31mTypeError\u001b[0m: Can't instantiate abstract class Observable with abstract methods num_wires"
     ]
    }
   ],
   "source": [
    "U=np.array([[1,0],\n",
    "                [0,0]])\n",
    "a=qml.QubitUnitary(U, wires=0)\n",
    "qml.operation.Observable(a)"
   ]
  },
  {
   "cell_type": "code",
   "execution_count": 32,
   "metadata": {},
   "outputs": [],
   "source": [
    "obs_matrix = np.array([[0.5, 1.0j, 0.0, -3j],\n",
    "                           [-1.0j, -1.1, 0.0, -0.1],\n",
    "                           [0.0, 0.0, -0.9, 12.0],\n",
    "                           [3j, -0.1, 12.0, 0.0]])"
   ]
  },
  {
   "cell_type": "code",
   "execution_count": 33,
   "metadata": {},
   "outputs": [],
   "source": [
    "obs = qml.Hermitian(obs_matrix, wires=[0, 1])"
   ]
  },
  {
   "cell_type": "code",
   "execution_count": 34,
   "metadata": {},
   "outputs": [],
   "source": [
    " H = qml.Hamiltonian((0.8, ), (obs, ))"
   ]
  },
  {
   "cell_type": "code",
   "execution_count": null,
   "metadata": {},
   "outputs": [],
   "source": []
  },
  {
   "cell_type": "code",
   "execution_count": 35,
   "metadata": {},
   "outputs": [],
   "source": [
    "dev = qml.device(\"default.qubit\", wires=2)\n",
    "@qml.qnode(dev)\n",
    "def circuit():\n",
    "    H\n",
    "    return qml.state()"
   ]
  },
  {
   "cell_type": "code",
   "execution_count": 37,
   "metadata": {},
   "outputs": [
    {
     "data": {
      "text/plain": [
       "tensor([1.+0.j, 0.+0.j, 0.+0.j, 0.+0.j], requires_grad=True)"
      ]
     },
     "execution_count": 37,
     "metadata": {},
     "output_type": "execute_result"
    }
   ],
   "source": [
    "circuit()"
   ]
  },
  {
   "cell_type": "code",
   "execution_count": null,
   "metadata": {},
   "outputs": [],
   "source": []
  }
 ],
 "metadata": {
  "interpreter": {
   "hash": "8d590842facef9a358f694449706aff506337bf1a4b02094de7950eec2b9ea62"
  },
  "kernelspec": {
   "display_name": "Python 3.7.11 ('pennylane': conda)",
   "language": "python",
   "name": "python3"
  },
  "language_info": {
   "codemirror_mode": {
    "name": "ipython",
    "version": 3
   },
   "file_extension": ".py",
   "mimetype": "text/x-python",
   "name": "python",
   "nbconvert_exporter": "python",
   "pygments_lexer": "ipython3",
   "version": "3.7.11"
  },
  "orig_nbformat": 4
 },
 "nbformat": 4,
 "nbformat_minor": 2
}
