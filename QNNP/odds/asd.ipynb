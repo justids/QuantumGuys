{
 "cells": [
  {
   "cell_type": "code",
   "execution_count": 3,
   "metadata": {},
   "outputs": [],
   "source": [
    "import os\n",
    "import numpy as np\n",
    "import json\n",
    "import math\n",
    "from PyAstronomy import pyasl\n",
    "\n",
    "an = pyasl.AtomicNo()\n",
    "\n",
    "\n",
    "with open('output.json','r') as f:\n",
    "    qm9=json.load(f)"
   ]
  },
  {
   "cell_type": "code",
   "execution_count": 4,
   "metadata": {},
   "outputs": [
    {
     "data": {
      "text/plain": [
       "{'symbol': 'CH4',\n",
       " 'n_atoms': 5,\n",
       " 'coordinates': [['C', -0.0126981359, 1.0858041578, 0.0080009958],\n",
       "  ['H', 0.002150416, -0.0060313176, 0.0019761204],\n",
       "  ['H', 1.0117308433, 1.4637511618, 0.0002765748],\n",
       "  ['H', -0.540815069, 1.4475266138, -0.8766437152],\n",
       "  ['H', -0.5238136345, 1.4379326443, 0.9063972942]],\n",
       " 'energy_U0': [-1101.4877900833399]}"
      ]
     },
     "execution_count": 4,
     "metadata": {},
     "output_type": "execute_result"
    }
   ],
   "source": [
    "qm9[\"1\"]"
   ]
  },
  {
   "cell_type": "code",
   "execution_count": 9,
   "metadata": {},
   "outputs": [],
   "source": [
    "theta1=np.pi/2\n",
    "phi1=np.pi/2\n",
    "theta2=np.pi/6\n",
    "phi2=np.pi/4"
   ]
  },
  {
   "cell_type": "code",
   "execution_count": 55,
   "metadata": {},
   "outputs": [],
   "source": [
    "def calqubit(theta,phi):\n",
    "    return np.array([np.cos(theta/2),np.sin(theta/2)*np.exp(1j*phi)])"
   ]
  },
  {
   "cell_type": "code",
   "execution_count": 41,
   "metadata": {},
   "outputs": [],
   "source": [
    "from AtomLoader import *"
   ]
  },
  {
   "cell_type": "code",
   "execution_count": 42,
   "metadata": {},
   "outputs": [],
   "source": [
    "t=np.array([1,2,0.5])\n",
    "p=np.array([0.5,1,2])"
   ]
  },
  {
   "cell_type": "code",
   "execution_count": 44,
   "metadata": {},
   "outputs": [],
   "source": [
    "with open('output.json','r') as f:\n",
    "    qm9=json.load(f)\n",
    "def Set_center(molecule, set_axis=False):\n",
    "    cord=np.array(molecule[\"coordinates\"])[:,1:].astype(float)\n",
    "    atomic_num=np.zeros(len(cord[:,0]))\n",
    "    for i in range(len(cord[:,0])): #원자 개수 n\n",
    "        atomic_num[i]=an.getAtomicNo(molecule[\"coordinates\"][i][0])\n",
    "    distance_martix=np.sqrt(np.sum(np.power(cord[np.newaxis,:,:]-cord[:,np.newaxis,:],2),axis=2))\n",
    "    # (n,n)  \n",
    "    bloch_cord=(cord[:,np.newaxis,:]-cord[np.newaxis,:,:]+epsilon)/(distance_martix[:,:,np.newaxis]+epsilon) # n,n,3 \n",
    "    if set_axis==False:\n",
    "        return bloch_cord, distance_martix, atomic_num, molecule['energy_U0']\n",
    "    # (n,n,3)\n",
    "    elif set_axis==True: ##가장 가까운 원자를 z축 위에, 두번쨰로 가짜운 원자는 xz 평면 위에 올리기(rotation sym 맞추려고 강제)\n",
    "        bloch_theta=np.arccos(bloch_cord[:,:,2])\n",
    "        # (n,n)\n",
    "        bloch_pi=np.arctan2(bloch_cord[:,:,1],bloch_cord[:,:,0])\n",
    "        # (n,n)\n",
    "        min_point=np.argsort(distance_martix,axis=1)[:,:3]\n",
    "\n",
    "        theta1=np.array([bloch_theta[i,x] for i,x in enumerate(min_point[:,1])])\n",
    "        theta2=np.array([bloch_theta[i,x] for i,x in enumerate(min_point[:,2])])\n",
    "        pi1=np.array([bloch_pi[i,x] for i,x in enumerate(min_point[:,1])])\n",
    "        pi2=np.array([bloch_pi[i,x] for i,x in enumerate(min_point[:,2])])\n",
    "        pi_prime=np.arctan2(np.sin(theta2)*np.sin(pi2-pi1),np.cos(theta1)*np.sin(theta2)*np.cos(pi2-pi1)-np.sin(theta1)*np.cos(theta2))\n",
    "        rot3=rotation_matrix('z',-pi_prime[:,np.newaxis])\n",
    "        rot2=rotation_matrix('y',(-theta1)[:,np.newaxis])\n",
    "        rot1=rotation_matrix('z',(-pi1)[:,np.newaxis])\n",
    "        sym_bloch_cord=np.einsum('abij,abjk,abkl,abl-> abi',rot3,rot2,rot1,bloch_cord)\n",
    "        sym_bloch_cord[(np.abs(sym_bloch_cord)<epsilon)]=0\n",
    "        for i in range(len(sym_bloch_cord[:,0,0])):\n",
    "            sym_bloch_cord[i,i,:]=0\n",
    "        return sym_bloch_cord, distance_martix, atomic_num, molecule['energy_U0']"
   ]
  },
  {
   "cell_type": "code",
   "execution_count": 2,
   "metadata": {},
   "outputs": [
    {
     "ename": "NameError",
     "evalue": "name 'qm9' is not defined",
     "output_type": "error",
     "traceback": [
      "\u001b[0;31m---------------------------------------------------------------------------\u001b[0m",
      "\u001b[0;31mNameError\u001b[0m                                 Traceback (most recent call last)",
      "\u001b[0;32m/tmp/ipykernel_348/2132040627.py\u001b[0m in \u001b[0;36m<module>\u001b[0;34m\u001b[0m\n\u001b[0;32m----> 1\u001b[0;31m \u001b[0mqm9\u001b[0m\u001b[0;34m[\u001b[0m\u001b[0;34m\"1\"\u001b[0m\u001b[0;34m]\u001b[0m\u001b[0;34m\u001b[0m\u001b[0;34m\u001b[0m\u001b[0m\n\u001b[0m",
      "\u001b[0;31mNameError\u001b[0m: name 'qm9' is not defined"
     ]
    }
   ],
   "source": [
    "qm9[\"1\"]"
   ]
  },
  {
   "cell_type": "code",
   "execution_count": 142,
   "metadata": {},
   "outputs": [],
   "source": [
    "sym_bloch_cord, distance_martix, atomic_num, energy=Set_center(q,True)"
   ]
  },
  {
   "cell_type": "code",
   "execution_count": 206,
   "metadata": {},
   "outputs": [],
   "source": [
    "para=np.array([[0,0.5],\n",
    "               [0.1,1],\n",
    "               [0.3,2]])"
   ]
  },
  {
   "cell_type": "code",
   "execution_count": 207,
   "metadata": {},
   "outputs": [],
   "source": [
    "def Cutoff_function(distance, cutoff_radius=5):\n",
    "    return 0.5*(np.cos(math.pi*distance/cutoff_radius)+1)\n",
    "\n",
    "def calqubit(theta,phi):\n",
    "    return np.stack((np.cos(theta/2),np.sin(theta/2)*np.exp(1j*phi)),axis=-1)\n",
    "\n",
    "def returnangle(qubit):\n",
    "    the=2*np.arctan2(np.abs(qubit[:,:,1]),np.real(qubit[:,:,0]))\n",
    "    ph=np.arctan2(qubit[:,:,1].imag,qubit[:,:,1].real)\n",
    "    return(np.stack((the,ph),axis=2))\n",
    "    \n",
    "\n",
    "def Cal_descriptor(cord,distance_matrix,classic=False,parameter=None,descript_parameter=None, weigthed=False, atomic_num=None, cutoff_radius=5, halve=False):\n",
    "    if classic==True:\n",
    "        descriptor=calqubit(np.arccos(cord[:,:,2]),np.arctan2(cord[:,:,1],cord[:,:,0]))*Cutoff_function(distance_matrix[:,:,np.newaxis],cutoff_radius=cutoff_radius)\n",
    "        descriptor=descriptor[:,np.newaxis,:,:]*np.exp(-descript_parameter[np.newaxis,:,np.newaxis,np.newaxis,0]*np.power(distance_matrix[:,np.newaxis,:,np.newaxis]-descript_parameter[np.newaxis,:,np.newaxis,np.newaxis,1],2))\n",
    "        if weigthed==True:\n",
    "            atomic_weight=np.zeros((len(atomic_num),len(atomic_num)))\n",
    "            for i in range(len(atomic_num)):\n",
    "                for j in range(len(atomic_num)):\n",
    "                    atomic_weight[i,j]=atomic_num[i]*atomic_num[j]\n",
    "            descriptor=descriptor*atomic_weight[:,np.newaxis,:,np.newaxis]\n",
    "    else:\n",
    "        descriptor=calqubit(np.arccos(cord[:,:,2]),np.arctan2(cord[:,:,1],cord[:,:,0]))\n",
    "        descriptor=descriptor[:,np.newaxis,:,:]*parameter[np.newaxis,:,np.newaxis,np.newaxis]\n",
    "    descriptor=np.sum(descriptor,axis=2)\n",
    "    descript_size=np.sqrt(np.sum(descriptor*descriptor.conj(),axis=2))\n",
    "    descriptor=descriptor/descript_size[:,:,np.newaxis]\n",
    "    \n",
    "    \n",
    "    \n",
    "    return returnangle(descriptor),descript_size"
   ]
  },
  {
   "cell_type": "code",
   "execution_count": 209,
   "metadata": {},
   "outputs": [],
   "source": [
    "des,dessize=Cal_descriptor(sym_bloch_cord, distance_martix,classic=True,descript_parameter=para)"
   ]
  },
  {
   "cell_type": "code",
   "execution_count": 210,
   "metadata": {},
   "outputs": [
    {
     "data": {
      "text/plain": [
       "(13, 3, 2)"
      ]
     },
     "execution_count": 210,
     "metadata": {},
     "output_type": "execute_result"
    }
   ],
   "source": [
    "des.shape"
   ]
  },
  {
   "cell_type": "code",
   "execution_count": 1,
   "metadata": {},
   "outputs": [
    {
     "ename": "NameError",
     "evalue": "name 'para' is not defined",
     "output_type": "error",
     "traceback": [
      "\u001b[0;31m---------------------------------------------------------------------------\u001b[0m",
      "\u001b[0;31mNameError\u001b[0m                                 Traceback (most recent call last)",
      "\u001b[0;32m/tmp/ipykernel_348/41765762.py\u001b[0m in \u001b[0;36m<module>\u001b[0;34m\u001b[0m\n\u001b[0;32m----> 1\u001b[0;31m \u001b[0mpara\u001b[0m\u001b[0;34m\u001b[0m\u001b[0;34m\u001b[0m\u001b[0m\n\u001b[0m",
      "\u001b[0;31mNameError\u001b[0m: name 'para' is not defined"
     ]
    }
   ],
   "source": [
    "para"
   ]
  },
  {
   "cell_type": "code",
   "execution_count": 6,
   "metadata": {},
   "outputs": [],
   "source": [
    "loss=np.array([[22621.94988035],\n",
    " [ 4251.92234518],\n",
    " [ 1965.63880769],\n",
    " [ 1428.491095  ],\n",
    " [ 1262.96980779],\n",
    " [ 1010.95506928],\n",
    " [  622.14008082],\n",
    " [ 1127.38961069],\n",
    " [  707.32846518],\n",
    " [  499.98213771],\n",
    " [  349.09720823],\n",
    " [  596.38339652],\n",
    " [  579.47065846],\n",
    " [  618.83695642],\n",
    " [  346.33447331],\n",
    " [  366.65215697],\n",
    " [  639.21851439],\n",
    " [  373.9518873 ],\n",
    " [  466.1205681 ],\n",
    " [  525.17752287],\n",
    " [  520.86017381],\n",
    " [  337.37089432],\n",
    " [  566.13677738],\n",
    " [  466.19492523],\n",
    " [  312.4006113 ],\n",
    " [  359.17791618],\n",
    " [  316.40693461],\n",
    " [  339.9544072 ],\n",
    " [  391.85964933],\n",
    " [  409.96124171],\n",
    " [  333.67129082],\n",
    " [  336.78900385],\n",
    " [  294.18401405],\n",
    " [  466.80808769],\n",
    " [  548.73644418],\n",
    " [  420.31165328],\n",
    " [  431.3941526 ],\n",
    " [  291.85485812],\n",
    " [  224.21601232],\n",
    " [  311.25002636],\n",
    " [  412.00508145],\n",
    " [  280.47647361],\n",
    " [  212.89450689],\n",
    " [  239.76476132],\n",
    " [  311.74171296],\n",
    " [  300.08934922],\n",
    " [  373.82232943],\n",
    " [  204.85616611],\n",
    " [  227.56221441],\n",
    " [  237.33569447],\n",
    " [  216.36572532],\n",
    " [  269.91294406],\n",
    " [  189.63978275],\n",
    " [  398.74419565],\n",
    " [  196.00115845],\n",
    " [  495.02680228],\n",
    " [  217.82992829],\n",
    " [  269.64209658],\n",
    " [  225.60099248],\n",
    " [  318.03959739],\n",
    " [  170.70261514],\n",
    " [  284.34973213],\n",
    " [  243.65227588],\n",
    " [  286.5606653 ],\n",
    " [  345.25945102],\n",
    " [  290.0833657 ],\n",
    " [  233.29038722],\n",
    " [  278.78487074],\n",
    " [  355.01927391],\n",
    " [  261.70243842],\n",
    " [  240.15725959],\n",
    " [  176.23823926],\n",
    " [  232.93839517],\n",
    " [  245.18912581],\n",
    " [  173.98384811],\n",
    " [  349.25868615],\n",
    " [  299.77570464],\n",
    " [  210.85687416],\n",
    " [  283.07176679],\n",
    " [  155.52140211],\n",
    " [  268.08898795],\n",
    " [  196.52491067],\n",
    " [  290.49481859],\n",
    " [  243.18219485],\n",
    " [  315.41216146],\n",
    " [  210.74493913],\n",
    " [  248.03099059],\n",
    " [  250.40496128],\n",
    " [  149.54827192],\n",
    " [  204.40411737],\n",
    " [  204.13530238],\n",
    " [  219.39012549],\n",
    " [  125.37305228],\n",
    " [  253.4603462 ],\n",
    " [  204.82661401],\n",
    " [  227.54788616],\n",
    " [  223.93661141],\n",
    " [  217.19967201],\n",
    " [  260.26067066],\n",
    " [  193.85966706]])"
   ]
  },
  {
   "cell_type": "code",
   "execution_count": 10,
   "metadata": {},
   "outputs": [],
   "source": [
    "loss=loss[:,0]"
   ]
  },
  {
   "cell_type": "code",
   "execution_count": 14,
   "metadata": {},
   "outputs": [
    {
     "data": {
      "text/plain": [
       "[<matplotlib.lines.Line2D at 0x7f885b9f8390>]"
      ]
     },
     "execution_count": 14,
     "metadata": {},
     "output_type": "execute_result"
    },
    {
     "data": {
      "image/png": "[encoded data removed]",
      "text/plain": [
       "<Figure size 432x288 with 1 Axes>"
      ]
     },
     "metadata": {
      "needs_background": "light"
     },
     "output_type": "display_data"
    }
   ],
   "source": [
    "import matplotlib.pyplot as plt\n",
    "\n",
    "plt.plot(loss[5:])"
   ]
  },
  {
   "cell_type": "code",
   "execution_count": 15,
   "metadata": {},
   "outputs": [
    {
     "data": {
      "text/plain": [
       "16"
      ]
     },
     "execution_count": 15,
     "metadata": {},
     "output_type": "execute_result"
    }
   ],
   "source": [
    "import multiprocessing as mp\n",
    "mp.cpu_count()"
   ]
  },
  {
   "cell_type": "code",
   "execution_count": null,
   "metadata": {},
   "outputs": [],
   "source": [
    "[-0.10427488  0.39103157  2.00803408 -1.03417637 -0.3711771   0.11335513\n",
    "  1.31828257  3.19598659 -0.25595048 -1.06790523  0.05467634 -0.09911154\n",
    "  0.63642456 -1.25679513  1.39696794  1.14624053 -0.02484633  0.15336306\n",
    "  0.22153725 -0.09010125 -0.16219164 -1.54976815  0.03012084 -0.03090227]\n",
    "\n",
    "[[1.86165939e+01 7.58334429e-01]\n",
    " [9.84366970e+00 7.72104692e+00]\n",
    " [7.68903392e+00 8.53899444e-04]\n",
    " [5.21409959e+00 9.53466509e+00]\n",
    " [1.20117567e+01 2.71973547e+00]\n",
    " [7.62945243e+00 3.99941299e-04]]"
   ]
  },
  {
   "cell_type": "code",
   "execution_count": null,
   "metadata": {},
   "outputs": [],
   "source": [
    "[-2.72381803e-02 -8.76446844e-02  5.85174249e-02  5.81141991e-02\n",
    " -1.34082530e+00  4.77398103e-01  3.82739910e+00 -5.62684470e+00\n",
    " -1.76862730e-01 -5.03979696e-01  3.09392131e-01 -9.68527281e-02\n",
    " -1.79331289e+00 -3.75747175e-03  2.87347149e+00  1.04095908e+00\n",
    " -8.73850184e-02  5.17992110e-01  3.60659010e+00  3.37353967e-01\n",
    "  2.03054936e-01 -1.87556620e-01 -5.12462708e-01 -4.87809436e-01]\n",
    "[[1.02126836e+01 2.74705206e+00]\n",
    " [8.71367535e+00 7.77495470e+00]\n",
    " [6.92658799e+00 3.52060165e-03]\n",
    " [5.99408910e+00 9.53860202e+00]\n",
    " [1.62510271e+01 7.78600562e-01]\n",
    " [7.41957673e+00 2.10923351e-03]]\n"
   ]
  },
  {
   "cell_type": "code",
   "execution_count": null,
   "metadata": {},
   "outputs": [],
   "source": [
    "[ -0.47594351  -4.50743477  -8.46613537  -0.19065087  -1.1726193\n",
    " -11.25678421  14.01949377  -8.60061223  -0.25404365   0.23194815\n",
    "   0.10643894   0.74158512]\n",
    "\n",
    "[[7.44546256e+00 3.58156079e-04]\n",
    " [1.61157272e+01 7.72828926e-01]\n",
    " [5.79686532e+00 8.85346477e+00]]"
   ]
  },
  {
   "cell_type": "code",
   "execution_count": 1,
   "metadata": {},
   "outputs": [
    {
     "data": {
      "text/plain": [
       "[0, 1, 2, 3, 4]"
      ]
     },
     "execution_count": 1,
     "metadata": {},
     "output_type": "execute_result"
    }
   ],
   "source": [
    "[i for i in range(5)]"
   ]
  },
  {
   "cell_type": "code",
   "execution_count": null,
   "metadata": {},
   "outputs": [],
   "source": []
  }
 ],
 "metadata": {
  "interpreter": {
   "hash": "c17a849593e93bae2879273e9f8c9f0810d0d90f15e79b07e288458ad6002409"
  },
  "kernelspec": {
   "display_name": "Python 3.7.11 ('qiskit': conda)",
   "language": "python",
   "name": "python3"
  },
  "language_info": {
   "codemirror_mode": {
    "name": "ipython",
    "version": 3
   },
   "file_extension": ".py",
   "mimetype": "text/x-python",
   "name": "python",
   "nbconvert_exporter": "python",
   "pygments_lexer": "ipython3",
   "version": "3.7.11"
  },
  "orig_nbformat": 4
 },
 "nbformat": 4,
 "nbformat_minor": 2
}
