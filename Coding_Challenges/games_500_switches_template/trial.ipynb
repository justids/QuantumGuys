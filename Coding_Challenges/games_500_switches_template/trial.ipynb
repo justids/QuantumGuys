{
 "cells": [
  {
   "cell_type": "code",
   "execution_count": 2,
   "metadata": {},
   "outputs": [],
   "source": [
    "import sys\n",
    "import pennylane as qml\n",
    "from pennylane import numpy as np\n",
    "import pennylane.optimize as optimize\n"
   ]
  },
  {
   "cell_type": "code",
   "execution_count": 3,
   "metadata": {},
   "outputs": [
    {
     "data": {
      "text/plain": [
       "tensor([1, 0, 0], requires_grad=True)"
      ]
     },
     "execution_count": 3,
     "metadata": {},
     "output_type": "execute_result"
    }
   ],
   "source": [
    "def oracle_example():\n",
    "    # the car is behind door |01>\n",
    "    qml.PauliX(wires = 0)\n",
    "    qml.Toffoli(wires = [0,1,\"sol\"])\n",
    "    qml.PauliX(wires = 0)\n",
    "def check_door(oracle):\n",
    "    dev = qml.device(\"default.qubit\", wires = [0,1, \"sol\"], shots = 1)\n",
    "    @qml.qnode(dev)\n",
    "    def circuit():\n",
    "        # check behind door 10 by preparing state |10>\n",
    "        qml.PauliX(wires = 0)\n",
    "        # Let's apply the oracle\n",
    "        oracle()\n",
    "        return qml.sample()\n",
    "    return circuit()\n",
    "check_door(oracle_example)"
   ]
  },
  {
   "cell_type": "code",
   "execution_count": null,
   "metadata": {},
   "outputs": [],
   "source": []
  }
 ],
 "metadata": {
  "interpreter": {
   "hash": "8d590842facef9a358f694449706aff506337bf1a4b02094de7950eec2b9ea62"
  },
  "kernelspec": {
   "display_name": "Python 3.7.11 ('pennylane': conda)",
   "language": "python",
   "name": "python3"
  },
  "language_info": {
   "codemirror_mode": {
    "name": "ipython",
    "version": 3
   },
   "file_extension": ".py",
   "mimetype": "text/x-python",
   "name": "python",
   "nbconvert_exporter": "python",
   "pygments_lexer": "ipython3",
   "version": "3.7.11"
  },
  "orig_nbformat": 4
 },
 "nbformat": 4,
 "nbformat_minor": 2
}
